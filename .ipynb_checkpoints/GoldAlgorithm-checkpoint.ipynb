{
 "cells": [
  {
   "cell_type": "markdown",
   "metadata": {
    "scrolled": true
   },
   "source": [
    "## <center>Gold Algorithm    </center>"
   ]
  },
  {
   "cell_type": "markdown",
   "metadata": {},
   "source": [
    "This algorithm was created using Zipline to backtest strategies"
   ]
  },
  {
   "cell_type": "code",
   "execution_count": 2,
   "metadata": {},
   "outputs": [],
   "source": [
    "%load_ext zipline"
   ]
  },
  {
   "cell_type": "code",
   "execution_count": 3,
   "metadata": {},
   "outputs": [],
   "source": [
    "import pandas as pd\n",
    "import numpy as np\n",
    "from collections import OrderedDict\n",
    "import pytz\n",
    "from zipline.api import order, record, symbol, set_benchmark, order_target_percent, get_open_orders, order_target\n",
    "from trading_calendars import get_calendar\n",
    "import zipline\n",
    "import matplotlib.pyplot as plt\n",
    "from matplotlib import style\n",
    "from datetime import datetime\n",
    "import pandas_datareader.data as web\n",
    "import datetime as dt\n",
    "from zipline.finance.slippage import FixedSlippage\n",
    "from zipline.algorithm import TradingAlgorithm\n",
    "from zipline.finance import commission\n",
    "from zipline.pipeline.factors import RSI\n",
    "import talib"
   ]
  },
  {
   "cell_type": "markdown",
   "metadata": {},
   "source": [
    "The function below ensures that the algorithm is not fed any missing values"
   ]
  },
  {
   "cell_type": "code",
   "execution_count": 4,
   "metadata": {},
   "outputs": [],
   "source": [
    "#since there is missing data for some months, this is used to do a backwards fill for data called\n",
    "def get_indicator_val(indicator, date):\n",
    "    val = 0\n",
    "    count = 0\n",
    "    while True:\n",
    "        try:\n",
    "            #try to get a value from previous month if entry is missing\n",
    "            date = date - dt.timedelta(days=count*30)\n",
    "            #1st of every month\n",
    "            date = datetime(date.year, date.month, 1)\n",
    "            val = df_indicators[indicator][date]\n",
    "            break\n",
    "        except:\n",
    "            pass\n",
    "        count +=1\n",
    "    return val"
   ]
  },
  {
   "cell_type": "code",
   "execution_count": 5,
   "metadata": {
    "scrolled": true
   },
   "outputs": [],
   "source": [
    "#make a date time variable and a context.i variable so that df[cci][i] can be referenced in handle_data\n",
    "start = dt.datetime(2005,1,1)\n",
    "end = dt.datetime(2018,1,1)\n",
    "#import dataframe from GoldAnalysis so fedfunds rate can be used \n",
    "df_indicators = pd.read_csv('data/indicators.csv', index_col='DATE', parse_dates=True)"
   ]
  },
  {
   "cell_type": "code",
   "execution_count": 6,
   "metadata": {},
   "outputs": [],
   "source": [
    "def initialize(context):\n",
    "    set_benchmark(symbol(\"GLD\"))\n",
    "    context.i = 0\n",
    "    context.set_slippage(FixedSlippage())\n",
    "    context.set_commission(commission.PerTrade(cost=1))\n",
    "\n",
    "    #set variables\n",
    "    context.LOW_RSI = 30\n",
    "    context.HIGH_RSI = 70\n",
    "    context.window = 50\n",
    "    buy_pct = 0"
   ]
  },
  {
   "cell_type": "markdown",
   "metadata": {},
   "source": [
    "The logic of the algorithm is in the handle_data function below. Currently, it will:\n",
    "* Buy when the relative strength index is below 30\n",
    "* Buy when the one-week moving average is greater than the two-week moving average\n",
    "* Buy when the derivative of the federal funds rate is positive\n",
    "* Sell when the price of gold is less than its one week average"
   ]
  },
  {
   "cell_type": "code",
   "execution_count": 21,
   "metadata": {},
   "outputs": [],
   "source": [
    "def handle_data(context, data):\n",
    "    context.i += 1\n",
    "    buy_pct = 0.0\n",
    "    day_count = start + dt.timedelta(days=context.i)\n",
    "    \n",
    "    if context.i < context.window:\n",
    "        return\n",
    "    \n",
    "    #relative strength index\n",
    "    prices = data.history(symbol(\"GLD\"), fields='price', bar_count=50, frequency='1d') #standard frame is 15\n",
    "    rsi = talib.RSI(prices)\n",
    "        \n",
    "    if rsi[-1] < context.LOW_RSI: \n",
    "        # RSI under 30 indicates oversold\n",
    "        buy_pct += .5\n",
    "        pass\n",
    "\n",
    "\n",
    "\n",
    "    elif rsi[-1] > context.HIGH_RSI:\n",
    "        # RSI over 70 indicates overbought\n",
    "        pass\n",
    "\n",
    "\n",
    "    #moving average crossover\n",
    "    slowma = data.history(symbol(\"GLD\"), fields='price', bar_count=14, frequency='1d').mean()\n",
    "    fastma = data.history(symbol(\"GLD\"), fields='price', bar_count=7, frequency='1d').mean()\n",
    "\n",
    "    if fastma > slowma:\n",
    "        buy_pct += .75\n",
    "    \n",
    "    if fastma < slowma:\n",
    "        pass\n",
    "\n",
    "    #federal funds rate\n",
    "    if get_indicator_val('FFR_dy/dx', day_count) > 0:\n",
    "        buy_pct += 1\n",
    "        pass\n",
    "    \n",
    "    \n",
    "    if buy_pct != 0:\n",
    "        order_target_percent(symbol(\"GLD\"), buy_pct)\n",
    "        \n",
    "    if data.current(symbol('GLD'), fields='price') < data.history(symbol(\"GLD\"), fields='price', bar_count=7, frequency='1d').mean():\n",
    "        order_target_percent(symbol(\"GLD\"), -0.25)\n",
    "    \n",
    "\n",
    "    record(GLD=data.current(symbol('GLD'), fields='price'))"
   ]
  },
  {
   "cell_type": "markdown",
   "metadata": {},
   "source": [
    "Local csv file of GLD, a gold ETF, is put into a format that the algorithm can handle.\n",
    "The price of gold is not used here because I could not find any free data that had the correct OHLCV format that Zipline needs to backtest."
   ]
  },
  {
   "cell_type": "code",
   "execution_count": 22,
   "metadata": {},
   "outputs": [
    {
     "name": "stdout",
     "output_type": "stream",
     "text": [
      "                 open       high        low      close      volume\n",
      "date                                                              \n",
      "2004-11-18  44.430000  44.490002  44.070000  44.380001   5992000.0\n",
      "2004-11-19  44.490002  44.919998  44.470001  44.779999  11655300.0\n",
      "2004-11-20  44.490002  44.919998  44.470001  44.779999  11655300.0\n",
      "2004-11-21  44.490002  44.919998  44.470001  44.779999  11655300.0\n",
      "2004-11-22  44.750000  44.970001  44.740002  44.950001  11996000.0\n",
      "<class 'pandas.core.panel.Panel'>\n",
      "Dimensions: 1 (items) x 5160 (major_axis) x 5 (minor_axis)\n",
      "Items axis: GLD to GLD\n",
      "Major_axis axis: 2004-11-18 00:00:00+00:00 to 2019-01-03 00:00:00+00:00\n",
      "Minor_axis axis: open to volume\n"
     ]
    }
   ],
   "source": [
    "data = OrderedDict()\n",
    "data['GLD'] = pd.read_csv(\"GLD.csv\")\n",
    "data['GLD'].set_index('date', inplace=True)\n",
    "data['GLD'].drop('adj close', axis=1, inplace=True)\n",
    "\n",
    "data['GLD'].index = pd.to_datetime(data['GLD'].index, infer_datetime_format=True)\n",
    "data['GLD'] = data['GLD'].resample(\"D\").mean()\n",
    "data['GLD'].fillna(method=\"ffill\", inplace=True)\n",
    "\n",
    "data['GLD'] = data['GLD'][[\"open\",\"high\",\"low\",\"close\",\"volume\"]]\n",
    "#data['GLD']['date'] = data['GLD']['date'].tz_localize(pytz.utc)\n",
    "print(data['GLD'].head())\n",
    "panel = pd.Panel(data)\n",
    "panel.minor_axis = [\"open\",\"high\",\"low\",\"close\",\"volume\"]\n",
    "panel.major_axis = panel.major_axis.tz_localize(pytz.utc)\n",
    "print(panel)"
   ]
  },
  {
   "cell_type": "code",
   "execution_count": 23,
   "metadata": {},
   "outputs": [],
   "source": [
    "#evaluate performance \n",
    "perf = zipline.run_algorithm(start=datetime(start.year, start.month, start.day, 0, 0, 0, 0, pytz.utc),\n",
    "                        end=datetime(end.year, end.month, end.day, 0, 0, 0, 0, pytz.utc),\n",
    "                        initialize=initialize,\n",
    "                        capital_base=10000,\n",
    "                        handle_data=handle_data,\n",
    "                        data_frequency ='daily',\n",
    "                        data=panel)"
   ]
  },
  {
   "cell_type": "code",
   "execution_count": 24,
   "metadata": {},
   "outputs": [
    {
     "data": {
      "image/png": "[encoded data removed]",
      "text/plain": [
       "<Figure size 432x288 with 1 Axes>"
      ]
     },
     "metadata": {},
     "output_type": "display_data"
    }
   ],
   "source": [
    "#plot results\n",
    "style.use(\"ggplot\")\n",
    "\n",
    "perf.portfolio_value.pct_change().fillna(0).add(1).cumprod().sub(1).plot(label='portfolio')\n",
    "perf.GLD.pct_change().fillna(0).add(1).cumprod().sub(1).plot(label='benchmark')\n",
    "plt.legend(loc=2)\n",
    "\n",
    "plt.show()"
   ]
  },
  {
   "cell_type": "markdown",
   "metadata": {},
   "source": [
    "This algorithm outperforms gold, but not by much."
   ]
  },
  {
   "cell_type": "code",
   "execution_count": 12,
   "metadata": {},
   "outputs": [
    {
     "name": "stdout",
     "output_type": "stream",
     "text": [
      "0.030123276838355032\n"
     ]
    }
   ],
   "source": [
    "print(perf['alpha'].mean())"
   ]
  },
  {
   "cell_type": "code",
   "execution_count": 13,
   "metadata": {},
   "outputs": [
    {
     "name": "stdout",
     "output_type": "stream",
     "text": [
      "0.7884323658581802\n"
     ]
    }
   ],
   "source": [
    "print(perf['beta'].mean())"
   ]
  },
  {
   "cell_type": "code",
   "execution_count": 16,
   "metadata": {},
   "outputs": [
    {
     "name": "stdout",
     "output_type": "stream",
     "text": [
      "0.23871322916937565\n"
     ]
    }
   ],
   "source": [
    "print(perf['algorithm_period_return'][-1]-perf['benchmark_period_return'][-1])"
   ]
  },
  {
   "cell_type": "markdown",
   "metadata": {},
   "source": [
    "## Conclusion"
   ]
  },
  {
   "cell_type": "markdown",
   "metadata": {},
   "source": [
    "---"
   ]
  },
  {
   "cell_type": "markdown",
   "metadata": {},
   "source": [
    "This is a rudementary version of the algorithm I would like to create. With low trading fees considered and some margin used, this algorithm beats the return of gold by 0.23%. It also has a relatively low alpha and a high beta, so there is certainly room for improvement. That being said, it has not been optimized and it only uses three very simple indicators to trade with. "
   ]
  },
  {
   "cell_type": "markdown",
   "metadata": {},
   "source": [
    "Despite this, it still shows evidence that trading gold by using the FFR as an indicator will increase its profitabliltiy. Below is an image of the portfolio performance when the FFR is not used."
   ]
  },
  {
   "cell_type": "code",
   "execution_count": 26,
   "metadata": {},
   "outputs": [
    {
     "data": {
      "image/png": "[encoded data removed]",
      "text/plain": [
       "<IPython.core.display.Image object>"
      ]
     },
     "execution_count": 26,
     "metadata": {},
     "output_type": "execute_result"
    }
   ],
   "source": [
    "from IPython.display import Image\n",
    "\n",
    "fig = Image(filename=('data/no_ffr_perf.png'))\n",
    "fig"
   ]
  }
 ],
 "metadata": {
  "kernelspec": {
   "display_name": "Python 3",
   "language": "python",
   "name": "python3"
  },
  "language_info": {
   "codemirror_mode": {
    "name": "ipython",
    "version": 3
   },
   "file_extension": ".py",
   "mimetype": "text/x-python",
   "name": "python",
   "nbconvert_exporter": "python",
   "pygments_lexer": "ipython3",
   "version": "3.6.6"
  }
 },
 "nbformat": 4,
 "nbformat_minor": 2
}
